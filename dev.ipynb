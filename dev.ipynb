{
 "cells": [
  {
   "cell_type": "code",
   "execution_count": 1,
   "metadata": {},
   "outputs": [],
   "source": [
    "import os\n",
    "os.environ[\"IMAGEIO_FFMPEG_EXE\"] = \"/Users/mano/miniconda3/envs/speech-to-text/bin/ffmpeg\"\n",
    "from moviepy.editor import VideoFileClip"
   ]
  },
  {
   "cell_type": "code",
   "execution_count": 2,
   "metadata": {},
   "outputs": [
    {
     "name": "stdout",
     "output_type": "stream",
     "text": [
      "MoviePy - Writing audio in /Users/mano/Documents/GitHub/speech-to-text/data/data_vincent_artaud/Vincent Artaud - Interview_clip.wav\n"
     ]
    },
    {
     "name": "stderr",
     "output_type": "stream",
     "text": [
      "                                                                     "
     ]
    },
    {
     "name": "stdout",
     "output_type": "stream",
     "text": [
      "MoviePy - Done.\n"
     ]
    },
    {
     "name": "stderr",
     "output_type": "stream",
     "text": [
      "\r"
     ]
    }
   ],
   "source": [
    "# Load the video file and extract the audio\n",
    "video_path = \"/Users/mano/Documents/GitHub/speech-to-text/data/data_vincent_artaud/Vincent Artaud - Interview.mov\"\n",
    "clip = VideoFileClip(video_path)\n",
    "audio = clip.audio\n",
    "\n",
    "# Set the start and end time for the audio segment you want to extract\n",
    "start_time = 0\n",
    "end_time = 60\n",
    "\n",
    "# Extract the first minute of the audio\n",
    "audio_segment = audio.subclip(t_start=start_time, t_end=end_time)\n",
    "\n",
    "# Save the audio segment to a file\n",
    "audio_segment_path = \"/Users/mano/Documents/GitHub/speech-to-text/data/data_vincent_artaud/Vincent Artaud - Interview_clip.wav\"\n",
    "audio_segment.write_audiofile(audio_segment_path)"
   ]
  },
  {
   "cell_type": "code",
   "execution_count": 22,
   "metadata": {},
   "outputs": [],
   "source": [
    "import azure.cognitiveservices.speech as speechsdk\n",
    "\n",
    "# Set up the Speech service client object\n",
    "speech_key = \"eec2f80c615342759c4a1eaee31cd77d\"\n",
    "service_region = \"westeurope\"\n",
    "speech_config = speechsdk.SpeechConfig(subscription=speech_key, region=service_region)\n",
    "speech_config.speech_recognition_language = \"fr-FR\" # set the language to French\n",
    "speech_timeout = speechsdk.PropertyId.SpeechServiceConnection_InitialSilenceTimeoutMs\n",
    "speech_config.set_property(speech_timeout, \"10000\")\n",
    "speech_config.set_profanity(speechsdk.ProfanityOption.Raw) # disable profanity filtering\n",
    "audio_config = speechsdk.audio.AudioConfig(filename=\"/Users/mano/Documents/GitHub/speech-to-text/data/data_vincent_artaud/Vincent Artaud - Interview_clip.wav\")"
   ]
  },
  {
   "cell_type": "code",
   "execution_count": 23,
   "metadata": {},
   "outputs": [],
   "source": [
    "# Create a speech recognizer object\n",
    "speech_recognizer = speechsdk.SpeechRecognizer(speech_config=speech_config, audio_config=audio_config)\n",
    "\n",
    "# Start the transcription process\n",
    "result = speech_recognizer.recognize_once()"
   ]
  },
  {
   "cell_type": "code",
   "execution_count": 24,
   "metadata": {},
   "outputs": [
    {
     "name": "stdout",
     "output_type": "stream",
     "text": [
      " Alors on parcours musical.\n",
      " Il commence probablement avec mon père qui joue du Debussy au piano et moi je suis en couche culotte et je m'accroche au piano pour l'écouter.\n",
      " Voilà donc ça, c'est ma mère qui me l'a rapporté.\n",
      " Je me souviens pas, mais après le premier souvenir, conscient de on va dire de de de révélation musicale, c'est en 1979, ma mère avait acheté le vinyle de darkside of the Good Floyd.\n",
      "\n"
     ]
    }
   ],
   "source": [
    "text = result.text.replace(\".\", \".\\n\")\n",
    "text = ' ' + text\n",
    "print(text)"
   ]
  }
 ],
 "metadata": {
  "kernelspec": {
   "display_name": "speech-to-text",
   "language": "python",
   "name": "python3"
  },
  "language_info": {
   "codemirror_mode": {
    "name": "ipython",
    "version": 3
   },
   "file_extension": ".py",
   "mimetype": "text/x-python",
   "name": "python",
   "nbconvert_exporter": "python",
   "pygments_lexer": "ipython3",
   "version": "3.9.16"
  },
  "orig_nbformat": 4
 },
 "nbformat": 4,
 "nbformat_minor": 2
}
